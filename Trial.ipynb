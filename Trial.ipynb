{
 "cells": [
  {
   "cell_type": "markdown",
   "id": "6d3c1749-50fa-40ce-baf5-f68db17c114d",
   "metadata": {},
   "source": [
    "GROUP 20"
   ]
  },
  {
   "cell_type": "code",
   "execution_count": null,
   "id": "440e6857-30da-442d-a8f6-3db7cd668aa1",
   "metadata": {},
   "outputs": [],
   "source": []
  }
 ],
 "metadata": {
  "kernelspec": {
   "display_name": "R",
   "language": "R",
   "name": "ir"
  },
  "language_info": {
   "codemirror_mode": "r",
   "file_extension": ".r",
   "mimetype": "text/x-r-source",
   "name": "R",
   "pygments_lexer": "r",
   "version": "4.3.3"
  }
 },
 "nbformat": 4,
 "nbformat_minor": 5
}
